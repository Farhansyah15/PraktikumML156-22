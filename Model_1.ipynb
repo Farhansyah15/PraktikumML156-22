{
  "nbformat": 4,
  "nbformat_minor": 0,
  "metadata": {
    "colab": {
      "provenance": [],
      "authorship_tag": "ABX9TyNBkEPWuQTA4zfHJYt2NsdN",
      "include_colab_link": true
    },
    "kernelspec": {
      "name": "python3",
      "display_name": "Python 3"
    },
    "language_info": {
      "name": "python"
    },
    "accelerator": "GPU"
  },
  "cells": [
    {
      "cell_type": "markdown",
      "metadata": {
        "id": "view-in-github",
        "colab_type": "text"
      },
      "source": [
        "<a href=\"https://colab.research.google.com/github/Farhansyah15/PraktikumML156-22/blob/main/Model_1.ipynb\" target=\"_parent\"><img src=\"https://colab.research.google.com/assets/colab-badge.svg\" alt=\"Open In Colab\"/></a>"
      ]
    },
    {
      "cell_type": "code",
      "source": [
        "from keras.datasets import mnist\n",
        "from keras.utils import to_categorical\n",
        "from keras.models import Sequential\n",
        "from keras.layers import Conv2D\n",
        "from keras.layers import MaxPooling2D\n",
        "from keras.layers import Dense\n",
        "from keras.layers import Flatten\n",
        "from keras.preprocessing.image import ImageDataGenerator\n",
        "import matplotlib.pyplot as plt\n",
        "import numpy as np\n",
        "from sklearn.metrics import classification_report\n",
        "import os\n",
        "import cv2\n",
        "import numpy as np\n",
        "from keras.models import Sequential\n",
        "from keras.layers import InputLayer, Dense, Conv2D, MaxPool2D, Flatten\n",
        "from sklearn.preprocessing import LabelEncoder\n",
        "from keras.layers import Dropout, SpatialDropout2D, BatchNormalization"
      ],
      "metadata": {
        "id": "lDRGEhexpjJD"
      },
      "execution_count": 21,
      "outputs": []
    },
    {
      "cell_type": "code",
      "execution_count": 22,
      "metadata": {
        "colab": {
          "base_uri": "https://localhost:8080/"
        },
        "id": "4v69znmH93Si",
        "outputId": "57edb43f-5989-4f7c-e3e8-77d21be90ecc"
      },
      "outputs": [
        {
          "output_type": "stream",
          "name": "stdout",
          "text": [
            "Drive already mounted at /content/drive; to attempt to forcibly remount, call drive.mount(\"/content/drive\", force_remount=True).\n"
          ]
        }
      ],
      "source": [
        "from google.colab import drive\n",
        "drive.mount('/content/drive')"
      ]
    },
    {
      "cell_type": "code",
      "source": [
        "# masuk ke directory penyimpanan dataset anda\n",
        "%cd /content/drive/MyDrive/Machine Learning"
      ],
      "metadata": {
        "colab": {
          "base_uri": "https://localhost:8080/"
        },
        "id": "9esuOLhlCXsz",
        "outputId": "32cf9c36-2a89-49fa-e126-eb763ad02ed9"
      },
      "execution_count": 23,
      "outputs": [
        {
          "output_type": "stream",
          "name": "stdout",
          "text": [
            "/content/drive/MyDrive/Machine Learning\n"
          ]
        }
      ]
    },
    {
      "cell_type": "code",
      "source": [
        "!ls"
      ],
      "metadata": {
        "colab": {
          "base_uri": "https://localhost:8080/"
        },
        "id": "_TaN5U21CbmP",
        "outputId": "63f68196-e3ea-45fb-ce4c-89eb2cfbf2bb"
      },
      "execution_count": 24,
      "outputs": [
        {
          "output_type": "stream",
          "name": "stdout",
          "text": [
            "data-master  split_data  xtrain64.npy  xval64.npy  ytrain64.npy  yval64.npy\n"
          ]
        }
      ]
    },
    {
      "cell_type": "code",
      "source": [
        "x_train = np.load(\"xtrain64.npy\")\n",
        "x_val = np.load(\"xval64.npy\")\n",
        "y_train = np.load(\"ytrain64.npy\")\n",
        "y_val = np.load(\"yval64.npy\")"
      ],
      "metadata": {
        "id": "OayLc_fnnvom"
      },
      "execution_count": 25,
      "outputs": []
    },
    {
      "cell_type": "code",
      "source": [
        "# build a simple model\n",
        "model = Sequential()\n",
        "model.add(InputLayer(input_shape=[150, 150, 3]))\n",
        "model.add(Conv2D(filters=32, kernel_size=3, strides=1, padding='same', activation='relu'))\n",
        "model.add(SpatialDropout2D(rate=0.5))\n",
        "model.add(BatchNormalization())\n",
        "model.add(MaxPool2D(pool_size=2, padding='same'))\n",
        "\n",
        "model.add(Conv2D(filters=64, kernel_size=3, strides=1, padding='same', activation='relu'))\n",
        "model.add(SpatialDropout2D(rate=0.5))\n",
        "model.add(BatchNormalization())\n",
        "model.add(MaxPool2D(pool_size=2, padding='same'))\n",
        "\n",
        "model.add(Conv2D(filters=128, kernel_size=3, strides=1, padding='same', activation='relu'))\n",
        "model.add(SpatialDropout2D(rate=0.5))\n",
        "model.add(BatchNormalization())\n",
        "model.add(Flatten())\n",
        "\n",
        "# fully connected\n",
        "model.add(Dense(512, activation='relu'))\n",
        "model.add(Dense(1, activation='sigmoid'))\n",
        "\n",
        "model.summary()"
      ],
      "metadata": {
        "colab": {
          "base_uri": "https://localhost:8080/"
        },
        "id": "MeQelfTknyid",
        "outputId": "193dde00-77e1-4e36-ec03-c5710dd589d4"
      },
      "execution_count": 26,
      "outputs": [
        {
          "output_type": "stream",
          "name": "stdout",
          "text": [
            "Model: \"sequential_2\"\n",
            "_________________________________________________________________\n",
            " Layer (type)                Output Shape              Param #   \n",
            "=================================================================\n",
            " conv2d_10 (Conv2D)          (None, 150, 150, 32)      896       \n",
            "                                                                 \n",
            " spatial_dropout2d (SpatialD  (None, 150, 150, 32)     0         \n",
            " ropout2D)                                                       \n",
            "                                                                 \n",
            " batch_normalization_10 (Bat  (None, 150, 150, 32)     128       \n",
            " chNormalization)                                                \n",
            "                                                                 \n",
            " max_pooling2d_10 (MaxPoolin  (None, 75, 75, 32)       0         \n",
            " g2D)                                                            \n",
            "                                                                 \n",
            " conv2d_11 (Conv2D)          (None, 75, 75, 64)        18496     \n",
            "                                                                 \n",
            " spatial_dropout2d_1 (Spatia  (None, 75, 75, 64)       0         \n",
            " lDropout2D)                                                     \n",
            "                                                                 \n",
            " batch_normalization_11 (Bat  (None, 75, 75, 64)       256       \n",
            " chNormalization)                                                \n",
            "                                                                 \n",
            " max_pooling2d_11 (MaxPoolin  (None, 38, 38, 64)       0         \n",
            " g2D)                                                            \n",
            "                                                                 \n",
            " conv2d_12 (Conv2D)          (None, 38, 38, 128)       73856     \n",
            "                                                                 \n",
            " spatial_dropout2d_2 (Spatia  (None, 38, 38, 128)      0         \n",
            " lDropout2D)                                                     \n",
            "                                                                 \n",
            " batch_normalization_12 (Bat  (None, 38, 38, 128)      512       \n",
            " chNormalization)                                                \n",
            "                                                                 \n",
            " flatten_2 (Flatten)         (None, 184832)            0         \n",
            "                                                                 \n",
            " dense_4 (Dense)             (None, 512)               94634496  \n",
            "                                                                 \n",
            " dense_5 (Dense)             (None, 1)                 513       \n",
            "                                                                 \n",
            "=================================================================\n",
            "Total params: 94,729,153\n",
            "Trainable params: 94,728,705\n",
            "Non-trainable params: 448\n",
            "_________________________________________________________________\n"
          ]
        }
      ]
    },
    {
      "cell_type": "code",
      "source": [
        "# compile model\n",
        "model.compile(optimizer='adam', loss='binary_crossentropy', metrics=['accuracy'])"
      ],
      "metadata": {
        "id": "1RRHXeJypyQi"
      },
      "execution_count": 27,
      "outputs": []
    },
    {
      "cell_type": "code",
      "source": [
        "# training & saving history of every epoch\n",
        "H = model.fit(x_train, y_train, \n",
        "              batch_size=64, \n",
        "              epochs=100, \n",
        "              validation_data=(x_val, y_val), \n",
        "              verbose=2)"
      ],
      "metadata": {
        "colab": {
          "base_uri": "https://localhost:8080/"
        },
        "id": "fgh8UY3pqLPK",
        "outputId": "78b05fc3-dadf-4475-88b9-9b29c08da7b6"
      },
      "execution_count": 28,
      "outputs": [
        {
          "output_type": "stream",
          "name": "stdout",
          "text": [
            "Epoch 1/100\n",
            "137/137 - 25s - loss: -1.8753e+05 - accuracy: 0.2484 - val_loss: -5.8129e+05 - val_accuracy: 0.2482 - 25s/epoch - 185ms/step\n",
            "Epoch 2/100\n",
            "137/137 - 14s - loss: -2.1875e+06 - accuracy: 0.2485 - val_loss: -3.6984e+06 - val_accuracy: 0.2482 - 14s/epoch - 104ms/step\n",
            "Epoch 3/100\n",
            "137/137 - 15s - loss: -9.1702e+06 - accuracy: 0.2484 - val_loss: -1.2971e+07 - val_accuracy: 0.2482 - 15s/epoch - 106ms/step\n",
            "Epoch 4/100\n",
            "137/137 - 14s - loss: -2.4441e+07 - accuracy: 0.2484 - val_loss: -3.2985e+07 - val_accuracy: 0.2482 - 14s/epoch - 104ms/step\n",
            "Epoch 5/100\n",
            "137/137 - 15s - loss: -5.1615e+07 - accuracy: 0.2484 - val_loss: -6.4915e+07 - val_accuracy: 0.2482 - 15s/epoch - 106ms/step\n",
            "Epoch 6/100\n",
            "137/137 - 14s - loss: -9.3607e+07 - accuracy: 0.2484 - val_loss: -1.1372e+08 - val_accuracy: 0.2482 - 14s/epoch - 104ms/step\n",
            "Epoch 7/100\n",
            "137/137 - 14s - loss: -1.5271e+08 - accuracy: 0.2484 - val_loss: -1.8295e+08 - val_accuracy: 0.2482 - 14s/epoch - 104ms/step\n",
            "Epoch 8/100\n",
            "137/137 - 14s - loss: -2.3188e+08 - accuracy: 0.2484 - val_loss: -2.6519e+08 - val_accuracy: 0.2482 - 14s/epoch - 104ms/step\n",
            "Epoch 9/100\n",
            "137/137 - 14s - loss: -3.3246e+08 - accuracy: 0.2484 - val_loss: -3.7233e+08 - val_accuracy: 0.2482 - 14s/epoch - 104ms/step\n",
            "Epoch 10/100\n",
            "137/137 - 14s - loss: -4.5623e+08 - accuracy: 0.2484 - val_loss: -5.1096e+08 - val_accuracy: 0.2482 - 14s/epoch - 104ms/step\n",
            "Epoch 11/100\n",
            "137/137 - 14s - loss: -6.0438e+08 - accuracy: 0.2484 - val_loss: -6.6234e+08 - val_accuracy: 0.2482 - 14s/epoch - 104ms/step\n",
            "Epoch 12/100\n",
            "137/137 - 14s - loss: -7.7736e+08 - accuracy: 0.2484 - val_loss: -8.3809e+08 - val_accuracy: 0.2482 - 14s/epoch - 104ms/step\n",
            "Epoch 13/100\n",
            "137/137 - 14s - loss: -9.7444e+08 - accuracy: 0.2484 - val_loss: -1.0522e+09 - val_accuracy: 0.2482 - 14s/epoch - 104ms/step\n",
            "Epoch 14/100\n",
            "137/137 - 14s - loss: -1.2000e+09 - accuracy: 0.2484 - val_loss: -1.3016e+09 - val_accuracy: 0.2482 - 14s/epoch - 104ms/step\n",
            "Epoch 15/100\n",
            "137/137 - 14s - loss: -1.4567e+09 - accuracy: 0.2484 - val_loss: -1.5828e+09 - val_accuracy: 0.2482 - 14s/epoch - 104ms/step\n",
            "Epoch 16/100\n",
            "137/137 - 15s - loss: -1.7383e+09 - accuracy: 0.2484 - val_loss: -1.8758e+09 - val_accuracy: 0.2482 - 15s/epoch - 106ms/step\n",
            "Epoch 17/100\n",
            "137/137 - 14s - loss: -2.0487e+09 - accuracy: 0.2484 - val_loss: -2.1949e+09 - val_accuracy: 0.2482 - 14s/epoch - 104ms/step\n",
            "Epoch 18/100\n",
            "137/137 - 15s - loss: -2.3902e+09 - accuracy: 0.2484 - val_loss: -2.5636e+09 - val_accuracy: 0.2482 - 15s/epoch - 106ms/step\n",
            "Epoch 19/100\n",
            "137/137 - 14s - loss: -2.7599e+09 - accuracy: 0.2484 - val_loss: -2.8898e+09 - val_accuracy: 0.2482 - 14s/epoch - 104ms/step\n",
            "Epoch 20/100\n",
            "137/137 - 14s - loss: -3.1670e+09 - accuracy: 0.2484 - val_loss: -3.2983e+09 - val_accuracy: 0.2482 - 14s/epoch - 104ms/step\n",
            "Epoch 21/100\n",
            "137/137 - 14s - loss: -3.5882e+09 - accuracy: 0.2484 - val_loss: -3.7485e+09 - val_accuracy: 0.2482 - 14s/epoch - 104ms/step\n",
            "Epoch 22/100\n",
            "137/137 - 14s - loss: -4.0541e+09 - accuracy: 0.2484 - val_loss: -4.2796e+09 - val_accuracy: 0.2482 - 14s/epoch - 104ms/step\n",
            "Epoch 23/100\n",
            "137/137 - 14s - loss: -4.5600e+09 - accuracy: 0.2484 - val_loss: -4.8014e+09 - val_accuracy: 0.2482 - 14s/epoch - 104ms/step\n",
            "Epoch 24/100\n",
            "137/137 - 14s - loss: -5.0808e+09 - accuracy: 0.2484 - val_loss: -5.3806e+09 - val_accuracy: 0.2482 - 14s/epoch - 104ms/step\n",
            "Epoch 25/100\n",
            "137/137 - 14s - loss: -5.6272e+09 - accuracy: 0.2484 - val_loss: -5.9123e+09 - val_accuracy: 0.2482 - 14s/epoch - 104ms/step\n",
            "Epoch 26/100\n",
            "137/137 - 14s - loss: -6.2242e+09 - accuracy: 0.2484 - val_loss: -6.5406e+09 - val_accuracy: 0.2482 - 14s/epoch - 104ms/step\n",
            "Epoch 27/100\n",
            "137/137 - 14s - loss: -6.8654e+09 - accuracy: 0.2484 - val_loss: -7.2086e+09 - val_accuracy: 0.2482 - 14s/epoch - 104ms/step\n",
            "Epoch 28/100\n",
            "137/137 - 14s - loss: -7.5471e+09 - accuracy: 0.2484 - val_loss: -7.8365e+09 - val_accuracy: 0.2482 - 14s/epoch - 104ms/step\n",
            "Epoch 29/100\n",
            "137/137 - 14s - loss: -8.2183e+09 - accuracy: 0.2484 - val_loss: -8.5754e+09 - val_accuracy: 0.2482 - 14s/epoch - 104ms/step\n",
            "Epoch 30/100\n",
            "137/137 - 14s - loss: -8.9428e+09 - accuracy: 0.2484 - val_loss: -9.3392e+09 - val_accuracy: 0.2482 - 14s/epoch - 104ms/step\n",
            "Epoch 31/100\n",
            "137/137 - 14s - loss: -9.7221e+09 - accuracy: 0.2484 - val_loss: -1.0077e+10 - val_accuracy: 0.2482 - 14s/epoch - 104ms/step\n",
            "Epoch 32/100\n",
            "137/137 - 14s - loss: -1.0532e+10 - accuracy: 0.2484 - val_loss: -1.0980e+10 - val_accuracy: 0.2482 - 14s/epoch - 104ms/step\n",
            "Epoch 33/100\n",
            "137/137 - 14s - loss: -1.1338e+10 - accuracy: 0.2484 - val_loss: -1.1855e+10 - val_accuracy: 0.2482 - 14s/epoch - 104ms/step\n",
            "Epoch 34/100\n",
            "137/137 - 14s - loss: -1.2239e+10 - accuracy: 0.2484 - val_loss: -1.2702e+10 - val_accuracy: 0.2482 - 14s/epoch - 104ms/step\n",
            "Epoch 35/100\n",
            "137/137 - 14s - loss: -1.3174e+10 - accuracy: 0.2484 - val_loss: -1.3659e+10 - val_accuracy: 0.2482 - 14s/epoch - 104ms/step\n",
            "Epoch 36/100\n",
            "137/137 - 14s - loss: -1.4110e+10 - accuracy: 0.2484 - val_loss: -1.4665e+10 - val_accuracy: 0.2482 - 14s/epoch - 104ms/step\n",
            "Epoch 37/100\n",
            "137/137 - 14s - loss: -1.5119e+10 - accuracy: 0.2484 - val_loss: -1.5631e+10 - val_accuracy: 0.2482 - 14s/epoch - 104ms/step\n",
            "Epoch 38/100\n",
            "137/137 - 14s - loss: -1.6117e+10 - accuracy: 0.2484 - val_loss: -1.6591e+10 - val_accuracy: 0.2482 - 14s/epoch - 104ms/step\n",
            "Epoch 39/100\n",
            "137/137 - 14s - loss: -1.7245e+10 - accuracy: 0.2484 - val_loss: -1.7292e+10 - val_accuracy: 0.2482 - 14s/epoch - 104ms/step\n",
            "Epoch 40/100\n",
            "137/137 - 14s - loss: -1.8392e+10 - accuracy: 0.2484 - val_loss: -1.7788e+10 - val_accuracy: 0.2482 - 14s/epoch - 104ms/step\n",
            "Epoch 41/100\n",
            "137/137 - 14s - loss: -1.9537e+10 - accuracy: 0.2484 - val_loss: -2.0242e+10 - val_accuracy: 0.2482 - 14s/epoch - 104ms/step\n",
            "Epoch 42/100\n",
            "137/137 - 14s - loss: -2.0724e+10 - accuracy: 0.2484 - val_loss: -2.1006e+10 - val_accuracy: 0.2482 - 14s/epoch - 104ms/step\n",
            "Epoch 43/100\n",
            "137/137 - 14s - loss: -2.2018e+10 - accuracy: 0.2484 - val_loss: -2.2705e+10 - val_accuracy: 0.2482 - 14s/epoch - 104ms/step\n",
            "Epoch 44/100\n",
            "137/137 - 14s - loss: -2.3340e+10 - accuracy: 0.2484 - val_loss: -2.3946e+10 - val_accuracy: 0.2482 - 14s/epoch - 104ms/step\n",
            "Epoch 45/100\n",
            "137/137 - 14s - loss: -2.4610e+10 - accuracy: 0.2484 - val_loss: -2.4384e+10 - val_accuracy: 0.2482 - 14s/epoch - 104ms/step\n",
            "Epoch 46/100\n",
            "137/137 - 14s - loss: -2.6059e+10 - accuracy: 0.2484 - val_loss: -2.6539e+10 - val_accuracy: 0.2482 - 14s/epoch - 104ms/step\n",
            "Epoch 47/100\n",
            "137/137 - 14s - loss: -2.7469e+10 - accuracy: 0.2484 - val_loss: -2.8154e+10 - val_accuracy: 0.2482 - 14s/epoch - 104ms/step\n",
            "Epoch 48/100\n",
            "137/137 - 14s - loss: -2.8918e+10 - accuracy: 0.2484 - val_loss: -2.9590e+10 - val_accuracy: 0.2482 - 14s/epoch - 104ms/step\n",
            "Epoch 49/100\n",
            "137/137 - 14s - loss: -3.0428e+10 - accuracy: 0.2484 - val_loss: -3.0901e+10 - val_accuracy: 0.2482 - 14s/epoch - 104ms/step\n",
            "Epoch 50/100\n",
            "137/137 - 15s - loss: -3.1999e+10 - accuracy: 0.2484 - val_loss: -3.2365e+10 - val_accuracy: 0.2482 - 15s/epoch - 106ms/step\n",
            "Epoch 51/100\n",
            "137/137 - 14s - loss: -3.3603e+10 - accuracy: 0.2484 - val_loss: -3.4445e+10 - val_accuracy: 0.2482 - 14s/epoch - 104ms/step\n",
            "Epoch 52/100\n",
            "137/137 - 14s - loss: -3.5286e+10 - accuracy: 0.2484 - val_loss: -3.6148e+10 - val_accuracy: 0.2482 - 14s/epoch - 105ms/step\n",
            "Epoch 53/100\n",
            "137/137 - 14s - loss: -3.6886e+10 - accuracy: 0.2484 - val_loss: -3.7701e+10 - val_accuracy: 0.2482 - 14s/epoch - 105ms/step\n",
            "Epoch 54/100\n",
            "137/137 - 14s - loss: -3.8757e+10 - accuracy: 0.2484 - val_loss: -3.9719e+10 - val_accuracy: 0.2482 - 14s/epoch - 105ms/step\n",
            "Epoch 55/100\n",
            "137/137 - 14s - loss: -4.0529e+10 - accuracy: 0.2484 - val_loss: -4.1168e+10 - val_accuracy: 0.2482 - 14s/epoch - 105ms/step\n",
            "Epoch 56/100\n",
            "137/137 - 15s - loss: -4.2274e+10 - accuracy: 0.2484 - val_loss: -4.3323e+10 - val_accuracy: 0.2482 - 15s/epoch - 106ms/step\n",
            "Epoch 57/100\n",
            "137/137 - 14s - loss: -4.4317e+10 - accuracy: 0.2484 - val_loss: -4.5301e+10 - val_accuracy: 0.2482 - 14s/epoch - 104ms/step\n",
            "Epoch 58/100\n",
            "137/137 - 14s - loss: -4.6139e+10 - accuracy: 0.2484 - val_loss: -4.7009e+10 - val_accuracy: 0.2482 - 14s/epoch - 104ms/step\n",
            "Epoch 59/100\n",
            "137/137 - 15s - loss: -4.8088e+10 - accuracy: 0.2484 - val_loss: -4.9671e+10 - val_accuracy: 0.2482 - 15s/epoch - 106ms/step\n",
            "Epoch 60/100\n",
            "137/137 - 14s - loss: -5.0208e+10 - accuracy: 0.2484 - val_loss: -5.1370e+10 - val_accuracy: 0.2482 - 14s/epoch - 104ms/step\n",
            "Epoch 61/100\n",
            "137/137 - 14s - loss: -5.2297e+10 - accuracy: 0.2484 - val_loss: -5.3330e+10 - val_accuracy: 0.2482 - 14s/epoch - 104ms/step\n",
            "Epoch 62/100\n",
            "137/137 - 14s - loss: -5.4498e+10 - accuracy: 0.2484 - val_loss: -5.5228e+10 - val_accuracy: 0.2482 - 14s/epoch - 104ms/step\n",
            "Epoch 63/100\n",
            "137/137 - 14s - loss: -5.6590e+10 - accuracy: 0.2484 - val_loss: -5.7820e+10 - val_accuracy: 0.2482 - 14s/epoch - 104ms/step\n",
            "Epoch 64/100\n",
            "137/137 - 14s - loss: -5.8852e+10 - accuracy: 0.2484 - val_loss: -6.0089e+10 - val_accuracy: 0.2482 - 14s/epoch - 104ms/step\n",
            "Epoch 65/100\n",
            "137/137 - 15s - loss: -6.1130e+10 - accuracy: 0.2484 - val_loss: -6.2681e+10 - val_accuracy: 0.2482 - 15s/epoch - 106ms/step\n",
            "Epoch 66/100\n",
            "137/137 - 15s - loss: -6.3461e+10 - accuracy: 0.2484 - val_loss: -6.4551e+10 - val_accuracy: 0.2482 - 15s/epoch - 106ms/step\n",
            "Epoch 67/100\n",
            "137/137 - 14s - loss: -6.6052e+10 - accuracy: 0.2484 - val_loss: -6.7864e+10 - val_accuracy: 0.2482 - 14s/epoch - 104ms/step\n",
            "Epoch 68/100\n",
            "137/137 - 14s - loss: -6.8365e+10 - accuracy: 0.2484 - val_loss: -6.9345e+10 - val_accuracy: 0.2482 - 14s/epoch - 104ms/step\n",
            "Epoch 69/100\n",
            "137/137 - 15s - loss: -7.0991e+10 - accuracy: 0.2484 - val_loss: -7.2863e+10 - val_accuracy: 0.2482 - 15s/epoch - 106ms/step\n",
            "Epoch 70/100\n",
            "137/137 - 14s - loss: -7.3369e+10 - accuracy: 0.2484 - val_loss: -7.4753e+10 - val_accuracy: 0.2482 - 14s/epoch - 104ms/step\n",
            "Epoch 71/100\n",
            "137/137 - 14s - loss: -7.6258e+10 - accuracy: 0.2484 - val_loss: -7.6586e+10 - val_accuracy: 0.2482 - 14s/epoch - 104ms/step\n",
            "Epoch 72/100\n",
            "137/137 - 14s - loss: -7.8603e+10 - accuracy: 0.2484 - val_loss: -7.9249e+10 - val_accuracy: 0.2482 - 14s/epoch - 104ms/step\n",
            "Epoch 73/100\n",
            "137/137 - 14s - loss: -8.1644e+10 - accuracy: 0.2484 - val_loss: -8.2711e+10 - val_accuracy: 0.2482 - 14s/epoch - 104ms/step\n",
            "Epoch 74/100\n",
            "137/137 - 14s - loss: -8.4357e+10 - accuracy: 0.2484 - val_loss: -8.6140e+10 - val_accuracy: 0.2482 - 14s/epoch - 104ms/step\n",
            "Epoch 75/100\n",
            "137/137 - 14s - loss: -8.7206e+10 - accuracy: 0.2484 - val_loss: -8.8834e+10 - val_accuracy: 0.2482 - 14s/epoch - 104ms/step\n",
            "Epoch 76/100\n",
            "137/137 - 14s - loss: -8.9934e+10 - accuracy: 0.2484 - val_loss: -9.1476e+10 - val_accuracy: 0.2482 - 14s/epoch - 104ms/step\n",
            "Epoch 77/100\n",
            "137/137 - 14s - loss: -9.3053e+10 - accuracy: 0.2484 - val_loss: -9.4486e+10 - val_accuracy: 0.2482 - 14s/epoch - 104ms/step\n",
            "Epoch 78/100\n",
            "137/137 - 14s - loss: -9.6204e+10 - accuracy: 0.2484 - val_loss: -9.7672e+10 - val_accuracy: 0.2482 - 14s/epoch - 104ms/step\n",
            "Epoch 79/100\n",
            "137/137 - 14s - loss: -9.9274e+10 - accuracy: 0.2484 - val_loss: -1.0003e+11 - val_accuracy: 0.2482 - 14s/epoch - 104ms/step\n",
            "Epoch 80/100\n",
            "137/137 - 14s - loss: -1.0230e+11 - accuracy: 0.2484 - val_loss: -1.0383e+11 - val_accuracy: 0.2482 - 14s/epoch - 104ms/step\n",
            "Epoch 81/100\n",
            "137/137 - 14s - loss: -1.0570e+11 - accuracy: 0.2484 - val_loss: -1.0606e+11 - val_accuracy: 0.2482 - 14s/epoch - 104ms/step\n",
            "Epoch 82/100\n",
            "137/137 - 14s - loss: -1.0877e+11 - accuracy: 0.2484 - val_loss: -1.0994e+11 - val_accuracy: 0.2482 - 14s/epoch - 104ms/step\n",
            "Epoch 83/100\n",
            "137/137 - 15s - loss: -1.1219e+11 - accuracy: 0.2484 - val_loss: -1.1419e+11 - val_accuracy: 0.2482 - 15s/epoch - 106ms/step\n",
            "Epoch 84/100\n",
            "137/137 - 14s - loss: -1.1552e+11 - accuracy: 0.2484 - val_loss: -1.1745e+11 - val_accuracy: 0.2482 - 14s/epoch - 104ms/step\n",
            "Epoch 85/100\n",
            "137/137 - 14s - loss: -1.1906e+11 - accuracy: 0.2484 - val_loss: -1.1973e+11 - val_accuracy: 0.2482 - 14s/epoch - 104ms/step\n",
            "Epoch 86/100\n",
            "137/137 - 14s - loss: -1.2239e+11 - accuracy: 0.2484 - val_loss: -1.2327e+11 - val_accuracy: 0.2482 - 14s/epoch - 104ms/step\n",
            "Epoch 87/100\n",
            "137/137 - 15s - loss: -1.2611e+11 - accuracy: 0.2484 - val_loss: -1.2787e+11 - val_accuracy: 0.2482 - 15s/epoch - 106ms/step\n",
            "Epoch 88/100\n",
            "137/137 - 15s - loss: -1.2992e+11 - accuracy: 0.2484 - val_loss: -1.3176e+11 - val_accuracy: 0.2482 - 15s/epoch - 106ms/step\n",
            "Epoch 89/100\n",
            "137/137 - 14s - loss: -1.3358e+11 - accuracy: 0.2484 - val_loss: -1.3533e+11 - val_accuracy: 0.2482 - 14s/epoch - 104ms/step\n",
            "Epoch 90/100\n",
            "137/137 - 14s - loss: -1.3756e+11 - accuracy: 0.2484 - val_loss: -1.4059e+11 - val_accuracy: 0.2482 - 14s/epoch - 104ms/step\n",
            "Epoch 91/100\n",
            "137/137 - 14s - loss: -1.4109e+11 - accuracy: 0.2484 - val_loss: -1.4080e+11 - val_accuracy: 0.2482 - 14s/epoch - 104ms/step\n",
            "Epoch 92/100\n",
            "137/137 - 14s - loss: -1.4491e+11 - accuracy: 0.2484 - val_loss: -1.4551e+11 - val_accuracy: 0.2482 - 14s/epoch - 104ms/step\n",
            "Epoch 93/100\n",
            "137/137 - 14s - loss: -1.4902e+11 - accuracy: 0.2484 - val_loss: -1.5094e+11 - val_accuracy: 0.2482 - 14s/epoch - 104ms/step\n",
            "Epoch 94/100\n",
            "137/137 - 14s - loss: -1.5304e+11 - accuracy: 0.2484 - val_loss: -1.5420e+11 - val_accuracy: 0.2482 - 14s/epoch - 104ms/step\n",
            "Epoch 95/100\n",
            "137/137 - 14s - loss: -1.5736e+11 - accuracy: 0.2484 - val_loss: -1.6072e+11 - val_accuracy: 0.2482 - 14s/epoch - 104ms/step\n",
            "Epoch 96/100\n",
            "137/137 - 14s - loss: -1.6123e+11 - accuracy: 0.2484 - val_loss: -1.6117e+11 - val_accuracy: 0.2482 - 14s/epoch - 104ms/step\n",
            "Epoch 97/100\n",
            "137/137 - 14s - loss: -1.6602e+11 - accuracy: 0.2484 - val_loss: -1.6752e+11 - val_accuracy: 0.2482 - 14s/epoch - 104ms/step\n",
            "Epoch 98/100\n",
            "137/137 - 14s - loss: -1.7006e+11 - accuracy: 0.2484 - val_loss: -1.7239e+11 - val_accuracy: 0.2482 - 14s/epoch - 104ms/step\n",
            "Epoch 99/100\n",
            "137/137 - 14s - loss: -1.7443e+11 - accuracy: 0.2484 - val_loss: -1.7640e+11 - val_accuracy: 0.2482 - 14s/epoch - 104ms/step\n",
            "Epoch 100/100\n",
            "137/137 - 14s - loss: -1.7865e+11 - accuracy: 0.2484 - val_loss: -1.8271e+11 - val_accuracy: 0.2482 - 14s/epoch - 104ms/step\n"
          ]
        }
      ]
    },
    {
      "cell_type": "code",
      "source": [
        "# plotting loss\n",
        "plt.style.use(\"ggplot\")\n",
        "plt.figure()\n",
        "plt.plot(np.arange(0, 100), H.history[\"loss\"], label=\"train_loss\")\n",
        "plt.plot(np.arange(0, 100), H.history[\"val_loss\"], label=\"val_loss\")\n",
        "plt.title(\"Loss Plot\")\n",
        "plt.xlabel(\"Epoch #\")\n",
        "plt.ylabel(\"Loss\")\n",
        "plt.legend()\n",
        "plt.show()"
      ],
      "metadata": {
        "colab": {
          "base_uri": "https://localhost:8080/",
          "height": 299
        },
        "id": "THGZb_TOW3JX",
        "outputId": "452301f0-dfaf-4f90-d500-17412656a525"
      },
      "execution_count": 30,
      "outputs": [
        {
          "output_type": "display_data",
          "data": {
            "text/plain": [
              "<Figure size 432x288 with 1 Axes>"
            ],
            "image/png": "[encoded data removed]"
          },
          "metadata": {}
        }
      ]
    },
    {
      "cell_type": "code",
      "source": [
        "# plotting accuracy\n",
        "plt.style.use(\"ggplot\")\n",
        "plt.figure()\n",
        "plt.plot(np.arange(0, 100), H.history[\"accuracy\"], label=\"train_accuracy\")\n",
        "plt.plot(np.arange(0, 100), H.history[\"val_accuracy\"], label=\"val_accuracy\")\n",
        "plt.title(\"Accuracy Plot\")\n",
        "plt.xlabel(\"Epoch #\")\n",
        "plt.ylabel(\"Accuracy\")\n",
        "plt.legend()\n",
        "plt.show()"
      ],
      "metadata": {
        "colab": {
          "base_uri": "https://localhost:8080/",
          "height": 299
        },
        "id": "5lVxcrsWW3v1",
        "outputId": "7064411c-ff08-4573-cd4d-5762b60aeaf8"
      },
      "execution_count": 31,
      "outputs": [
        {
          "output_type": "display_data",
          "data": {
            "text/plain": [
              "<Figure size 432x288 with 1 Axes>"
            ],
            "image/png": "[encoded data removed]"
          },
          "metadata": {}
        }
      ]
    },
    {
      "cell_type": "code",
      "source": [
        "# classification report\n",
        "pred = model.predict(x_val)\n",
        "labels = (pred > 0.5).astype(np.int)\n",
        "print(classification_report(y_val, labels))"
      ],
      "metadata": {
        "colab": {
          "base_uri": "https://localhost:8080/"
        },
        "id": "_GRYQeAcW5mt",
        "outputId": "ca39b445-06cf-4942-8a14-d079227ba242"
      },
      "execution_count": 32,
      "outputs": [
        {
          "output_type": "stream",
          "name": "stdout",
          "text": [
            "40/40 [==============================] - 1s 13ms/step\n",
            "              precision    recall  f1-score   support\n",
            "\n",
            "           0       0.00      0.00      0.00       313\n",
            "           1       0.25      1.00      0.40       310\n",
            "           2       0.00      0.00      0.00       309\n",
            "           3       0.00      0.00      0.00       317\n",
            "\n",
            "    accuracy                           0.25      1249\n",
            "   macro avg       0.06      0.25      0.10      1249\n",
            "weighted avg       0.06      0.25      0.10      1249\n",
            "\n"
          ]
        },
        {
          "output_type": "stream",
          "name": "stderr",
          "text": [
            "/usr/local/lib/python3.7/dist-packages/ipykernel_launcher.py:3: DeprecationWarning: `np.int` is a deprecated alias for the builtin `int`. To silence this warning, use `int` by itself. Doing this will not modify any behavior and is safe. When replacing `np.int`, you may wish to use e.g. `np.int64` or `np.int32` to specify the precision. If you wish to review your current use, check the release note link for additional information.\n",
            "Deprecated in NumPy 1.20; for more details and guidance: https://numpy.org/devdocs/release/1.20.0-notes.html#deprecations\n",
            "  This is separate from the ipykernel package so we can avoid doing imports until\n",
            "/usr/local/lib/python3.7/dist-packages/sklearn/metrics/_classification.py:1318: UndefinedMetricWarning: Precision and F-score are ill-defined and being set to 0.0 in labels with no predicted samples. Use `zero_division` parameter to control this behavior.\n",
            "  _warn_prf(average, modifier, msg_start, len(result))\n",
            "/usr/local/lib/python3.7/dist-packages/sklearn/metrics/_classification.py:1318: UndefinedMetricWarning: Precision and F-score are ill-defined and being set to 0.0 in labels with no predicted samples. Use `zero_division` parameter to control this behavior.\n",
            "  _warn_prf(average, modifier, msg_start, len(result))\n",
            "/usr/local/lib/python3.7/dist-packages/sklearn/metrics/_classification.py:1318: UndefinedMetricWarning: Precision and F-score are ill-defined and being set to 0.0 in labels with no predicted samples. Use `zero_division` parameter to control this behavior.\n",
            "  _warn_prf(average, modifier, msg_start, len(result))\n"
          ]
        }
      ]
    }
  ]
}